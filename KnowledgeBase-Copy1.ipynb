{
 "cells": [
  {
   "cell_type": "code",
   "execution_count": 34,
   "metadata": {},
   "outputs": [],
   "source": [
    "# My KB would be a set of the given sentences\n",
    "KnowledgeBase = [(1, 1, -1, 0), (0, -1, -1, 1), (-1, 0, 0, 1), (0, 1, 1, -1), (1, -1, 0, 1), (0, -1, 1, 0)]"
   ]
  },
  {
   "cell_type": "code",
   "execution_count": 2,
   "metadata": {},
   "outputs": [],
   "source": [
    "def canResolve(a, b):\n",
    "    counter = 0\n",
    "    for i in range(len(a)):\n",
    "        if a[i] == -b[i] and a[i] != 0:\n",
    "            counter += 1        \n",
    "    return counter == 1"
   ]
  },
  {
   "cell_type": "code",
   "execution_count": 38,
   "metadata": {},
   "outputs": [],
   "source": [
    "def isFalse(a, b):\n",
    "    counter = 0\n",
    "    hasOneNegative = False\n",
    "    for i in range(len(a)):\n",
    "        if not a[i] and not b[i]:\n",
    "            counter += 1        \n",
    "        elif a[i] == -b[i]:\n",
    "            hasOneNegative = True\n",
    "    return (hasOneNegative) and counter == len(a)-1"
   ]
  },
  {
   "cell_type": "code",
   "execution_count": 40,
   "metadata": {},
   "outputs": [
    {
     "data": {
      "text/plain": [
       "True"
      ]
     },
     "execution_count": 40,
     "metadata": {},
     "output_type": "execute_result"
    }
   ],
   "source": [
    "isFalse((-1, 0, 0, 0), (1, 0, 0, 0))"
   ]
  },
  {
   "cell_type": "code",
   "execution_count": 9,
   "metadata": {},
   "outputs": [],
   "source": [
    "def resolveTwoEqn(a, b):\n",
    "    myTup = [0, 0, 0, 0]\n",
    "    for i in range(len(a)):\n",
    "        if a[i] == -b[i] and a[i] != 0:\n",
    "            continue\n",
    "        if a[i] != 0:\n",
    "            myTup[i] = a[i]\n",
    "        if b[i] != 0:\n",
    "            myTup[i] = b[i]\n",
    "    return tuple(myTup)"
   ]
  },
  {
   "cell_type": "code",
   "execution_count": 30,
   "metadata": {},
   "outputs": [],
   "source": [
    "whichResolve = dict()"
   ]
  },
  {
   "cell_type": "code",
   "execution_count": 35,
   "metadata": {},
   "outputs": [],
   "source": [
    "def SolveProblem():\n",
    "    currentKnowledgeBase = set(KnowledgeBase)\n",
    "    whichResolve = dict()\n",
    "    while 1:\n",
    "        currentKnowledgeBaseLength = len(currentKnowledgeBase)\n",
    "        newKnowledgeBase = set(currentKnowledgeBase)\n",
    "        for knowledge_1 in currentKnowledgeBase:\n",
    "            for knowledge_2 in currentKnowledgeBase:                \n",
    "                if isFalse(knowledge_1, knowledge_2):\n",
    "                    print(f'Found: {getStrRepr(knowledge_1)},,,,,,,,,,,,{getStrRepr(knowledge_2)}')\n",
    "                    newKnowledgeBaseLength = len(newKnowledgeBase)\n",
    "                    currentKnowledgeBase = set(newKnowledgeBase)\n",
    "                    return newKnowledgeBase, whichResolve\n",
    "                if canResolve(knowledge_1, knowledge_2):\n",
    "                    newEqn = resolveTwoEqn(knowledge_1, \n",
    "                                      knowledge_2)\n",
    "                    if newEqn not in newKnowledgeBase:\n",
    "                        newKnowledgeBase.add(newEqn)\n",
    "                        if newEqn not in whichResolve:\n",
    "                            whichResolve[newEqn] = (knowledge_1, knowledge_2)\n",
    "        newKnowledgeBaseLength = len(newKnowledgeBase)\n",
    "        currentKnowledgeBase = set(newKnowledgeBase)\n",
    "        if currentKnowledgeBaseLength == newKnowledgeBaseLength:\n",
    "            return newKnowledgeBase, whichResolve\n",
    "            break\n",
    "\n",
    "newKnowledgeBase, whichResolve = SolveProblem()"
   ]
  },
  {
   "cell_type": "code",
   "execution_count": 36,
   "metadata": {},
   "outputs": [
    {
     "data": {
      "text/plain": [
       "24"
      ]
     },
     "execution_count": 36,
     "metadata": {},
     "output_type": "execute_result"
    }
   ],
   "source": [
    "len(newKnowledgeBase)"
   ]
  },
  {
   "cell_type": "code",
   "execution_count": 23,
   "metadata": {},
   "outputs": [],
   "source": [
    "def getStrRepr(eqn):\n",
    "    myDict = [chr(ord('A')+i) for i in range(6)]\n",
    "    myLs = []\n",
    "    for i in range(len(eqn)):\n",
    "        if eqn[i] == 1:\n",
    "            myLs.append(myDict[i])\n",
    "        elif eqn[i] == -1:\n",
    "            myLs.append(f'(not {myDict[i]})')\n",
    "    myString = f' or '\n",
    "    return myString.join(myLs)\n",
    "        \n",
    "    \n",
    "def printWhichResolved(newEqn, oldEqns, fw):\n",
    "    fw.write(f'Resolved: ({getStrRepr(oldEqns[0])}) and ({getStrRepr(oldEqns[1])}). Got new eqn: {getStrRepr(newEqn)}\\n\\n')"
   ]
  },
  {
   "cell_type": "code",
   "execution_count": 87,
   "metadata": {},
   "outputs": [
    {
     "data": {
      "text/plain": [
       "'(not A) or B or E'"
      ]
     },
     "execution_count": 87,
     "metadata": {},
     "output_type": "execute_result"
    }
   ],
   "source": [
    "getStrRepr((-1, 1, 0, 0, 1))"
   ]
  },
  {
   "cell_type": "code",
   "execution_count": 37,
   "metadata": {
    "scrolled": true
   },
   "outputs": [],
   "source": [
    "fw = open('sample.txt', 'w')\n",
    "for equation in KnowledgeBase:\n",
    "    fw.write(f'Original Equation: {getStrRepr(equation)}\\n\\n')\n",
    "counter = 0\n",
    "for i in whichResolve:\n",
    "    if i not in KnowledgeBase:\n",
    "        counter += 1\n",
    "        printWhichResolved(i, whichResolve[i], fw)\n",
    "fw.close()"
   ]
  },
  {
   "cell_type": "code",
   "execution_count": 89,
   "metadata": {},
   "outputs": [
    {
     "data": {
      "text/plain": [
       "131"
      ]
     },
     "execution_count": 89,
     "metadata": {},
     "output_type": "execute_result"
    }
   ],
   "source": [
    "newKnowledgeBaseLength"
   ]
  },
  {
   "cell_type": "code",
   "execution_count": 90,
   "metadata": {},
   "outputs": [],
   "source": [
    "finalKnowledgeBase = set(newKnowledgeBase)"
   ]
  },
  {
   "cell_type": "code",
   "execution_count": 91,
   "metadata": {},
   "outputs": [
    {
     "data": {
      "text/plain": [
       "False"
      ]
     },
     "execution_count": 91,
     "metadata": {},
     "output_type": "execute_result"
    }
   ],
   "source": [
    "(1, 1, 0, 1, 0) in finalKnowledgeBase"
   ]
  },
  {
   "cell_type": "code",
   "execution_count": 92,
   "metadata": {},
   "outputs": [
    {
     "data": {
      "text/plain": [
       "True"
      ]
     },
     "execution_count": 92,
     "metadata": {},
     "output_type": "execute_result"
    }
   ],
   "source": [
    "(-1, -1, 0, 1, 0) in finalKnowledgeBase"
   ]
  },
  {
   "cell_type": "code",
   "execution_count": 93,
   "metadata": {},
   "outputs": [
    {
     "data": {
      "text/plain": [
       "False"
      ]
     },
     "execution_count": 93,
     "metadata": {},
     "output_type": "execute_result"
    }
   ],
   "source": [
    "(1, 0, 1, 0, 0) in finalKnowledgeBase"
   ]
  },
  {
   "cell_type": "code",
   "execution_count": 94,
   "metadata": {},
   "outputs": [
    {
     "data": {
      "text/plain": [
       "True"
      ]
     },
     "execution_count": 94,
     "metadata": {},
     "output_type": "execute_result"
    }
   ],
   "source": [
    "(-1, 0, 0, 1, 0) in finalKnowledgeBase"
   ]
  },
  {
   "cell_type": "code",
   "execution_count": null,
   "metadata": {},
   "outputs": [],
   "source": []
  }
 ],
 "metadata": {
  "kernelspec": {
   "display_name": "Python 3",
   "language": "python",
   "name": "python3"
  },
  "language_info": {
   "codemirror_mode": {
    "name": "ipython",
    "version": 3
   },
   "file_extension": ".py",
   "mimetype": "text/x-python",
   "name": "python",
   "nbconvert_exporter": "python",
   "pygments_lexer": "ipython3",
   "version": "3.6.4"
  }
 },
 "nbformat": 4,
 "nbformat_minor": 2
}
