{
 "cells": [
  {
   "cell_type": "code",
   "execution_count": 53,
   "metadata": {},
   "outputs": [],
   "source": [
    "# My KB would be a set of the given sentences\n",
    "KnowledgeBase = [(-1, 1, 1, -1, 0), (0, 1, -1, 1, 0), \n",
    "                 (1, 1, 0, -1, 0), (1, -1, 1, 0, 0), \n",
    "                 (1, 0, -1, 0, -1), (-1, 0, 1, 0, 0), \n",
    "                 (0, -1, 0, 1, 0)]"
   ]
  },
  {
   "cell_type": "code",
   "execution_count": 54,
   "metadata": {},
   "outputs": [],
   "source": [
    "def canResolve(a, b):\n",
    "    counter = 0\n",
    "    for i in range(len(a)):\n",
    "        if a[i] == -b[i] and a[i] != 0:\n",
    "            counter += 1        \n",
    "    return counter == 1"
   ]
  },
  {
   "cell_type": "code",
   "execution_count": 55,
   "metadata": {},
   "outputs": [],
   "source": [
    "def resolveTwoEqn(a, b):\n",
    "    myTup = [0, 0, 0, 0, 0]\n",
    "    for i in range(len(a)):\n",
    "        if a[i] == -b[i] and a[i] != 0:\n",
    "            continue\n",
    "        if a[i] != 0:\n",
    "            myTup[i] = a[i]\n",
    "        if b[i] != 0:\n",
    "            myTup[i] = b[i]\n",
    "    return tuple(myTup)"
   ]
  },
  {
   "cell_type": "code",
   "execution_count": 56,
   "metadata": {},
   "outputs": [
    {
     "data": {
      "text/plain": [
       "(0, 0, -1, 1, 0)"
      ]
     },
     "execution_count": 56,
     "metadata": {},
     "output_type": "execute_result"
    }
   ],
   "source": [
    "resolveTwoEqn(KnowledgeBase[1], KnowledgeBase[6])"
   ]
  },
  {
   "cell_type": "code",
   "execution_count": 92,
   "metadata": {},
   "outputs": [],
   "source": [
    "whichResolve = dict()"
   ]
  },
  {
   "cell_type": "code",
   "execution_count": 93,
   "metadata": {},
   "outputs": [],
   "source": [
    "currentKnowledgeBase = set(KnowledgeBase)\n",
    "while 1:\n",
    "    currentKnowledgeBaseLength = len(currentKnowledgeBase)\n",
    "    newKnowledgeBase = set(currentKnowledgeBase)\n",
    "    for knowledge_1 in currentKnowledgeBase:\n",
    "        for knowledge_2 in currentKnowledgeBase:\n",
    "            if canResolve(knowledge_1, knowledge_2):\n",
    "                newEqn = resolveTwoEqn(knowledge_1, \n",
    "                                  knowledge_2)\n",
    "                if newEqn not in newKnowledgeBase:\n",
    "                    newKnowledgeBase.add(newEqn)\n",
    "                    if newEqn not in whichResolve:\n",
    "                        whichResolve[newEqn] = (knowledge_1, knowledge_2)\n",
    "    newKnowledgeBaseLength = len(newKnowledgeBase)\n",
    "    currentKnowledgeBase = set(newKnowledgeBase)\n",
    "    if currentKnowledgeBaseLength == newKnowledgeBaseLength:\n",
    "        break"
   ]
  },
  {
   "cell_type": "code",
   "execution_count": 86,
   "metadata": {},
   "outputs": [
    {
     "data": {
      "text/plain": [
       "55"
      ]
     },
     "execution_count": 86,
     "metadata": {},
     "output_type": "execute_result"
    }
   ],
   "source": [
    "len(newKnowledgeBase)"
   ]
  },
  {
   "cell_type": "code",
   "execution_count": 66,
   "metadata": {},
   "outputs": [
    {
     "data": {
      "text/plain": [
       "'A'"
      ]
     },
     "execution_count": 66,
     "metadata": {},
     "output_type": "execute_result"
    }
   ],
   "source": [
    "chr(ord('A')+0)"
   ]
  },
  {
   "cell_type": "code",
   "execution_count": 95,
   "metadata": {},
   "outputs": [],
   "source": [
    "def getStrRepr(eqn):\n",
    "    myDict = [chr(ord('A')+i) for i in range(6)]\n",
    "    myLs = []\n",
    "    for i in range(len(eqn)):\n",
    "        if eqn[i] == 1:\n",
    "            myLs.append(myDict[i])\n",
    "        elif eqn[i] == -1:\n",
    "            myLs.append(f'(not {myDict[i]})')\n",
    "    myString = f' or '\n",
    "    return myString.join(myLs)\n",
    "        \n",
    "    \n",
    "def printWhichResolved(newEqn, oldEqns, fw):\n",
    "    fw.write(f'Resolved: ({getStrRepr(oldEqns[0])}) and ({getStrRepr(oldEqns[1])}). Got new eqn: {getStrRepr(newEqn)}\\n\\n')"
   ]
  },
  {
   "cell_type": "code",
   "execution_count": 75,
   "metadata": {},
   "outputs": [
    {
     "data": {
      "text/plain": [
       "'(not A) or B or E'"
      ]
     },
     "execution_count": 75,
     "metadata": {},
     "output_type": "execute_result"
    }
   ],
   "source": [
    "getStrRepr((-1, 1, 0, 0, 1))"
   ]
  },
  {
   "cell_type": "code",
   "execution_count": 96,
   "metadata": {
    "scrolled": true
   },
   "outputs": [],
   "source": [
    "fw = open('EquationResolveTree.txt', 'w')\n",
    "for equation in KnowledgeBase:\n",
    "    fw.write(f'Original Equation: {getStrRepr(equation)}\\n\\n')\n",
    "counter = 0\n",
    "for i in whichResolve:\n",
    "    if i not in KnowledgeBase:\n",
    "        counter += 1\n",
    "        printWhichResolved(i, whichResolve[i], fw)\n",
    "fw.close()"
   ]
  },
  {
   "cell_type": "code",
   "execution_count": 41,
   "metadata": {},
   "outputs": [
    {
     "data": {
      "text/plain": [
       "55"
      ]
     },
     "execution_count": 41,
     "metadata": {},
     "output_type": "execute_result"
    }
   ],
   "source": [
    "newKnowledgeBaseLength"
   ]
  },
  {
   "cell_type": "code",
   "execution_count": 42,
   "metadata": {},
   "outputs": [],
   "source": [
    "finalKnowledgeBase = set(newKnowledgeBase)"
   ]
  },
  {
   "cell_type": "code",
   "execution_count": 43,
   "metadata": {},
   "outputs": [
    {
     "data": {
      "text/plain": [
       "False"
      ]
     },
     "execution_count": 43,
     "metadata": {},
     "output_type": "execute_result"
    }
   ],
   "source": [
    "(1, 1, 0, 1, 0) in finalKnowledgeBase"
   ]
  },
  {
   "cell_type": "code",
   "execution_count": 44,
   "metadata": {},
   "outputs": [
    {
     "data": {
      "text/plain": [
       "True"
      ]
     },
     "execution_count": 44,
     "metadata": {},
     "output_type": "execute_result"
    }
   ],
   "source": [
    "(-1, -1, 0, 1, 0) in finalKnowledgeBase"
   ]
  },
  {
   "cell_type": "code",
   "execution_count": 45,
   "metadata": {},
   "outputs": [
    {
     "data": {
      "text/plain": [
       "False"
      ]
     },
     "execution_count": 45,
     "metadata": {},
     "output_type": "execute_result"
    }
   ],
   "source": [
    "(1, 0, 1, 0, 0) in finalKnowledgeBase"
   ]
  },
  {
   "cell_type": "code",
   "execution_count": 46,
   "metadata": {},
   "outputs": [
    {
     "data": {
      "text/plain": [
       "True"
      ]
     },
     "execution_count": 46,
     "metadata": {},
     "output_type": "execute_result"
    }
   ],
   "source": [
    "(-1, 0, 0, 1, 0) in finalKnowledgeBase"
   ]
  }
 ],
 "metadata": {
  "kernelspec": {
   "display_name": "Python 3",
   "language": "python",
   "name": "python3"
  },
  "language_info": {
   "codemirror_mode": {
    "name": "ipython",
    "version": 3
   },
   "file_extension": ".py",
   "mimetype": "text/x-python",
   "name": "python",
   "nbconvert_exporter": "python",
   "pygments_lexer": "ipython3",
   "version": "3.6.4"
  }
 },
 "nbformat": 4,
 "nbformat_minor": 2
}
